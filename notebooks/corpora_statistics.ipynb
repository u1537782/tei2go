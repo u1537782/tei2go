{
 "cells": [
  {
   "cell_type": "code",
   "execution_count": 21,
   "metadata": {
    "collapsed": true
   },
   "outputs": [],
   "source": [
    "from functools import partialmethod\n",
    "from pathlib import Path\n",
    "from typing import Tuple\n",
    "\n",
    "from tqdm import tqdm\n",
    "\n",
    "from src.data.utils import read_dataset\n",
    "from src.data.preprocess import documents_to_sentence_annotation\n",
    "\n",
    "tqdm.__init__ = partialmethod(tqdm.__init__, disable=True)  # disable progress bar\n",
    "\n",
    "root_path = Path(__file__).parent.parent"
   ]
  },
  {
   "cell_type": "code",
   "execution_count": 22,
   "outputs": [],
   "source": [
    "corpora = {\n",
    "    \"english\": [\n",
    "        \"tempeval_3\",\n",
    "        \"meantime_english\",\n",
    "        \"tcr\",\n",
    "        \"ancient_time_english\",\n",
    "        \"wikiwars\",\n",
    "        \"ph_english\"\n",
    "    ],\n",
    "    \"portuguese\": [\n",
    "        \"timebankpt\",\n",
    "        \"ph_portuguese\"\n",
    "    ],\n",
    "    \"spanish\": [\n",
    "        \"spanish_timebank\",\n",
    "        \"tempeval_2_spanish\",\n",
    "        \"meantime_spanish\",\n",
    "        \"traint3\",\n",
    "        \"ancient_time_spanish\",\n",
    "        \"ph_spanish\"\n",
    "    ],\n",
    "    \"italian\": [\n",
    "        \"tempeval_2_italian\",\n",
    "        \"meantime_italian\",\n",
    "        \"narrative_container\",\n",
    "        \"ancient_time_italian\",\n",
    "        \"ph_italian\"\n",
    "    ],\n",
    "    \"french\": [\n",
    "        \"fr_timebank\",\n",
    "        \"tempeval_2_french\",\n",
    "        \"ancient_time_french\",\n",
    "        \"ph_french\"\n",
    "    ],\n",
    "    \"german\": [\n",
    "        \"krauts\",\n",
    "        \"wikiwars_de\",\n",
    "        \"ancient_time_german\",\n",
    "        \"ph_german\"\n",
    "    ],\n",
    "}"
   ],
   "metadata": {
    "collapsed": false
   }
  },
  {
   "cell_type": "code",
   "execution_count": 23,
   "outputs": [],
   "source": [
    "def get_sentences_timexs_count(documents) -> Tuple[int, int]:\n",
    "    n_sents, n_tmxs = 0, 0\n",
    "    for doc in documents:\n",
    "        annotated_sentences = documents_to_sentence_annotation(doc)\n",
    "        for sent, tmx in annotated_sentences:\n",
    "            if tmx:\n",
    "                n_sents += 1\n",
    "                n_tmxs += len(tmx)\n",
    "    return n_sents, n_tmxs"
   ],
   "metadata": {
    "collapsed": false
   }
  },
  {
   "cell_type": "code",
   "execution_count": 24,
   "outputs": [
    {
     "name": "stdout",
     "output_type": "stream",
     "text": [
      "                               & Train    &          &          & Validation &          &          & Test     &          &         \n",
      "                               & #Docs    & #Sents   & #Timexs  & #Docs    & #Sents   & #Timexs  & #Docs    & #Sents   & #Timexs \n",
      "tempeval_3                     & 204      & 1149     & 1427     & 51       & 307      & 383      & 20       & 106      & 138     \n",
      "meantime_english               & 86       & 177      & 258      & 10       & 19       & 28       & 24       & 48       & 63      \n",
      "tcr                            & 16       & 97       & 123      & 4        & 29       & 32       & 5        & 50       & 62      \n",
      "ancient_time_english           & 4        & 195      & 256      & 0        & 0        & 0        & 1        & 22       & 50      \n",
      "wikiwars                       & 16       & 1547     & 2111     & 2        & 100      & 136      & 4        & 302      & 393     \n",
      "ph_english                     & 17743    & 129065   & 165907   & 1971     & 14049    & 18067    & 4928     & 36131    & 46187   \n",
      "timebankpt                     & 130      & 694      & 863      & 32       & 180      & 219      & 20       & 117      & 145     \n",
      "ph_portuguese                  & 17491    & 39235    & 62613    & 1943     & 4323     & 6966     & 4859     & 11336    & 17937   \n",
      "spanish_timebank               & 140      & 598      & 882      & 35       & 155      & 234      & 35       & 145      & 206     \n",
      "tempeval_2_spanish             & 140      & 598      & 867      & 35       & 155      & 227      & 35       & 145      & 198     \n",
      "meantime_spanish               & 86       & 177      & 253      & 10       & 21       & 30       & 24       & 47       & 61      \n",
      "traint3                        & 126      & 550      & 799      & 14       & 48       & 68       & 35       & 155      & 227     \n",
      "ancient_time_spanish           & 4        & 126      & 176      & 0        & 0        & 0        & 1        & 20       & 36      \n",
      "ph_spanish                     & 23952    & 119857   & 226415   & 2661     & 13094    & 24753    & 6653     & 32962    & 63577   \n",
      "tempeval_2_italian             & 41       & 263      & 373      & 10       & 62       & 103      & 13       & 69       & 113     \n",
      "meantime_italian               & 86       & 167      & 232      & 10       & 22       & 29       & 24       & 54       & 77      \n",
      "narrative_container            & 45       & 198      & 327      & 5        & 19       & 21       & 13       & 63       & 91      \n",
      "ancient_time_italian           & 4        & 125      & 173      & 0        & 0        & 0        & 1        & 37       & 56      \n",
      "ph_italian                     & 6926     & 25799    & 35238    & 769      & 2852     & 3874     & 1924     & 7449     & 10092   \n",
      "fr_timebank                    & 77       & 218      & 320      & 9        & 17       & 22       & 22       & 52       & 83      \n",
      "tempeval_2_french              & 54       & 118      & 168      & 14       & 28       & 38       & 15       & 45       & 78      \n",
      "ancient_time_french            & 4        & 212      & 259      & 0        & 0        & 0        & 1        & 13       & 26      \n",
      "Downloading from https://drive.inesctec.pt/s/85npxdnKPc9Bomk/download\n",
      "Done.\n",
      "ph_french                      & 19551    & 26372    & 40619    & 2172     & 2930     & 4483     & 5431     & 7326     & 11175   \n",
      "krauts                         & 139      & 661      & 828      & 15       & 73       & 95       & 38       & 135      & 167     \n",
      "wikiwars_de                    & 16       & 1334     & 1545     & 2        & 87       & 119      & 4        & 459      & 553     \n",
      "ancient_time_german            & 4        & 129      & 156      & 0        & 0        & 0        & 1        & 32       & 35      \n",
      "ph_german                      & 13748    & 103198   & 125708   & 1528     & 11988    & 14956    & 3819     & 28131    & 34284   \n"
     ]
    }
   ],
   "source": [
    "header = [\" \", \"Train\", \" \", \" \", \"Validation\", \" \", \" \", \"Test\", \" \", \" \"]\n",
    "print(f\"{header[0]:<30} & {header[1]:<8} & {header[2]:<8} & {header[3]:<8} & {header[4]:<8} & {header[5]:<8} & {header[6]:<8} & {header[7]:<8} & {header[8]:<8} & {header[9]:<8}\")\n",
    "header = [\" \", \"#Docs\", \"#Sents\", \"#Timexs\", \"#Docs\", \"#Sents\", \"#Timexs\", \"#Docs\", \"#Sents\", \"#Timexs\"]\n",
    "print(f\"{header[0]:<30} & {header[1]:<8} & {header[2]:<8} & {header[3]:<8} & {header[4]:<8} & {header[5]:<8} & {header[6]:<8} & {header[7]:<8} & {header[8]:<8} & {header[9]:<8}\")\n",
    "\n",
    "for language in corpora:\n",
    "    for corpus in corpora[language]:\n",
    "        train_docs, val_docs, test_docs = read_dataset(corpus, root_path / \"data\" / \"raw\")\n",
    "\n",
    "        n_train_docs = len(train_docs)\n",
    "        n_train_sents, n_train_tmxs = get_sentences_timexs_count(train_docs)\n",
    "\n",
    "        n_val_docs = len(val_docs)\n",
    "        n_val_sents, n_val_tmxs = get_sentences_timexs_count(val_docs)\n",
    "\n",
    "        n_test_docs = len(test_docs)\n",
    "        n_test_sents, n_test_tmxs = get_sentences_timexs_count(test_docs)\n",
    "\n",
    "        print(f\"{corpus:<30} & \"\n",
    "              f\"{n_train_docs:<8} & {n_train_sents:<8} & {n_train_tmxs:<8} & \"\n",
    "              f\"{n_val_docs:<8} & {n_val_sents:<8} & {n_val_tmxs:<8} & \"\n",
    "              f\"{n_test_docs:<8} & {n_test_sents:<8} & {n_test_tmxs:<8}\")"
   ],
   "metadata": {
    "collapsed": false
   }
  },
  {
   "cell_type": "code",
   "execution_count": 24,
   "outputs": [],
   "source": [],
   "metadata": {
    "collapsed": false
   }
  }
 ],
 "metadata": {
  "kernelspec": {
   "display_name": "Python 3",
   "language": "python",
   "name": "python3"
  },
  "language_info": {
   "codemirror_mode": {
    "name": "ipython",
    "version": 2
   },
   "file_extension": ".py",
   "mimetype": "text/x-python",
   "name": "python",
   "nbconvert_exporter": "python",
   "pygments_lexer": "ipython2",
   "version": "2.7.6"
  }
 },
 "nbformat": 4,
 "nbformat_minor": 0
}
