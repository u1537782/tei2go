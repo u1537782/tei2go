{
 "cells": [
  {
   "cell_type": "code",
   "execution_count": 1,
   "outputs": [
    {
     "name": "stderr",
     "output_type": "stream",
     "text": [
      "2022-10-10 18:03:04.756559: W tensorflow/stream_executor/platform/default/dso_loader.cc:64] Could not load dynamic library 'libcudart.so.11.0'; dlerror: libcudart.so.11.0: cannot open shared object file: No such file or directory\n",
      "2022-10-10 18:03:04.756580: I tensorflow/stream_executor/cuda/cudart_stub.cc:29] Ignore above cudart dlerror if you do not have a GPU set up on your machine.\n"
     ]
    }
   ],
   "source": [
    "import spacy"
   ],
   "metadata": {
    "collapsed": false
   }
  },
  {
   "cell_type": "code",
   "execution_count": 2,
   "metadata": {
    "collapsed": true
   },
   "outputs": [
    {
     "name": "stdout",
     "output_type": "stream",
     "text": [
      "Collecting tei2go-fr==any\r\n",
      "\u001B[31m  ERROR: HTTP error 404 while getting https://huggingface.co/u1537782/tei2go_fr/resolve/main/tei2go_fr-any-py3-none-any.whl\u001B[0m\u001B[31m\r\n",
      "\u001B[0m\u001B[31mERROR: Could not install requirement tei2go-fr==any from https://huggingface.co/u1537782/tei2go_fr/resolve/main/tei2go_fr-any-py3-none-any.whl because of HTTP error 404 Client Error: Not Found for url: https://huggingface.co/u1537782/tei2go_fr/resolve/main/tei2go_fr-any-py3-none-any.whl for URL https://huggingface.co/u1537782/tei2go_fr/resolve/main/tei2go_fr-any-py3-none-any.whl\u001B[0m\u001B[31m\r\n",
      "\u001B[0mCollecting tei2go-es==any\r\n",
      "\u001B[31m  ERROR: HTTP error 404 while getting https://huggingface.co/u1537782/tei2go_es/resolve/main/tei2go_es-any-py3-none-any.whl\u001B[0m\u001B[31m\r\n",
      "\u001B[0m\u001B[31mERROR: Could not install requirement tei2go-es==any from https://huggingface.co/u1537782/tei2go_es/resolve/main/tei2go_es-any-py3-none-any.whl because of HTTP error 404 Client Error: Not Found for url: https://huggingface.co/u1537782/tei2go_es/resolve/main/tei2go_es-any-py3-none-any.whl for URL https://huggingface.co/u1537782/tei2go_es/resolve/main/tei2go_es-any-py3-none-any.whl\u001B[0m\u001B[31m\r\n",
      "\u001B[0mCollecting tei2go-pt==any\r\n",
      "\u001B[31m  ERROR: HTTP error 404 while getting https://huggingface.co/u1537782/tei2go_pt/resolve/main/tei2go_pt-any-py3-none-any.whl\u001B[0m\u001B[31m\r\n",
      "\u001B[0m\u001B[31mERROR: Could not install requirement tei2go-pt==any from https://huggingface.co/u1537782/tei2go_pt/resolve/main/tei2go_pt-any-py3-none-any.whl because of HTTP error 404 Client Error: Not Found for url: https://huggingface.co/u1537782/tei2go_pt/resolve/main/tei2go_pt-any-py3-none-any.whl for URL https://huggingface.co/u1537782/tei2go_pt/resolve/main/tei2go_pt-any-py3-none-any.whl\u001B[0m\u001B[31m\r\n",
      "\u001B[0mCollecting tei2go-it==any\r\n",
      "\u001B[31m  ERROR: HTTP error 404 while getting https://huggingface.co/u1537782/tei2go_it/resolve/main/tei2go_it-any-py3-none-any.whl\u001B[0m\u001B[31m\r\n",
      "\u001B[0m\u001B[31mERROR: Could not install requirement tei2go-it==any from https://huggingface.co/u1537782/tei2go_it/resolve/main/tei2go_it-any-py3-none-any.whl because of HTTP error 404 Client Error: Not Found for url: https://huggingface.co/u1537782/tei2go_it/resolve/main/tei2go_it-any-py3-none-any.whl for URL https://huggingface.co/u1537782/tei2go_it/resolve/main/tei2go_it-any-py3-none-any.whl\u001B[0m\u001B[31m\r\n",
      "\u001B[0mCollecting tei2go-de==any\r\n",
      "\u001B[31m  ERROR: HTTP error 404 while getting https://huggingface.co/u1537782/tei2go_de/resolve/main/tei2go_de-any-py3-none-any.whl\u001B[0m\u001B[31m\r\n",
      "\u001B[0m\u001B[31mERROR: Could not install requirement tei2go-de==any from https://huggingface.co/u1537782/tei2go_de/resolve/main/tei2go_de-any-py3-none-any.whl because of HTTP error 404 Client Error: Not Found for url: https://huggingface.co/u1537782/tei2go_de/resolve/main/tei2go_de-any-py3-none-any.whl for URL https://huggingface.co/u1537782/tei2go_de/resolve/main/tei2go_de-any-py3-none-any.whl\u001B[0m\u001B[31m\r\n",
      "\u001B[0mCollecting tei2go-en==any\r\n",
      "\u001B[31m  ERROR: HTTP error 404 while getting https://huggingface.co/u1537782/tei2go_en/resolve/main/tei2go_en-any-py3-none-any.whl\u001B[0m\u001B[31m\r\n",
      "\u001B[0m\u001B[31mERROR: Could not install requirement tei2go-en==any from https://huggingface.co/u1537782/tei2go_en/resolve/main/tei2go_en-any-py3-none-any.whl because of HTTP error 404 Client Error: Not Found for url: https://huggingface.co/u1537782/tei2go_en/resolve/main/tei2go_en-any-py3-none-any.whl for URL https://huggingface.co/u1537782/tei2go_en/resolve/main/tei2go_en-any-py3-none-any.whl\u001B[0m\u001B[31m\r\n",
      "\u001B[0m"
     ]
    }
   ],
   "source": [
    "!pip install https://huggingface.co/u1537782/tei2go_fr/resolve/main/tei2go_fr-any-py3-none-any.whl\n",
    "!pip install https://huggingface.co/u1537782/tei2go_es/resolve/main/tei2go_es-any-py3-none-any.whl\n",
    "!pip install https://huggingface.co/u1537782/tei2go_pt/resolve/main/tei2go_pt-any-py3-none-any.whl\n",
    "!pip install https://huggingface.co/u1537782/tei2go_it/resolve/main/tei2go_it-any-py3-none-any.whl\n",
    "!pip install https://huggingface.co/u1537782/tei2go_de/resolve/main/tei2go_de-any-py3-none-any.whl\n",
    "!pip install https://huggingface.co/u1537782/tei2go_en/resolve/main/tei2go_en-any-py3-none-any.whl"
   ]
  },
  {
   "cell_type": "code",
   "execution_count": null,
   "outputs": [],
   "source": [
    "nlp = spacy.load(\"tei2go_en\")"
   ],
   "metadata": {
    "collapsed": false
   }
  }
 ],
 "metadata": {
  "kernelspec": {
   "display_name": "Python 3",
   "language": "python",
   "name": "python3"
  },
  "language_info": {
   "codemirror_mode": {
    "name": "ipython",
    "version": 2
   },
   "file_extension": ".py",
   "mimetype": "text/x-python",
   "name": "python",
   "nbconvert_exporter": "python",
   "pygments_lexer": "ipython2",
   "version": "2.7.6"
  }
 },
 "nbformat": 4,
 "nbformat_minor": 0
}
